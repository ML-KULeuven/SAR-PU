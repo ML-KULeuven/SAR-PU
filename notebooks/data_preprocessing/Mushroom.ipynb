{
 "cells": [
  {
   "cell_type": "code",
   "execution_count": null,
   "metadata": {},
   "outputs": [],
   "source": [
    "%reload_ext autoreload\n",
    "%autoreload 2\n",
    "\n",
    "from sarpu.data_processing import *\n",
    "from sarpu.paths_and_names import *\n",
    "\n",
    "import numpy as np\n",
    "import pandas as pd\n",
    "import requests\n",
    "\n",
    "import sklearn.model_selection"
   ]
  },
  {
   "cell_type": "markdown",
   "metadata": {},
   "source": [
    "# Input Data"
   ]
  },
  {
   "cell_type": "code",
   "execution_count": null,
   "metadata": {},
   "outputs": [],
   "source": [
    "# Names and locations\n",
    "data_folder= \"../../Data/\"\n",
    "data_name = \"mushroom\"\n",
    "url = \"https://archive.ics.uci.edu/ml/machine-learning-databases/mushroom/agaricus-lepiota.data\""
   ]
  },
  {
   "cell_type": "code",
   "execution_count": null,
   "metadata": {},
   "outputs": [],
   "source": [
    "# Creation information\n",
    "nb_splits = 5\n",
    "test_size = 0.2"
   ]
  },
  {
   "cell_type": "markdown",
   "metadata": {},
   "source": [
    "# Prepare folders"
   ]
  },
  {
   "cell_type": "code",
   "execution_count": null,
   "metadata": {},
   "outputs": [],
   "source": [
    "# Prepare folders\n",
    "data_folder_original = original_data_path(data_folder,data_name)\n",
    "!mkdir -p $data_folder_original\n",
    "data_folder_processed = processed_data_path(data_folder,data_name)\n",
    "!mkdir -p $data_folder_processed\n",
    "data_folder_partitions = partitions_data_path(data_folder,data_name)\n",
    "!mkdir -p $data_folder_partitions"
   ]
  },
  {
   "cell_type": "markdown",
   "metadata": {},
   "source": [
    "# Download"
   ]
  },
  {
   "cell_type": "code",
   "execution_count": null,
   "metadata": {},
   "outputs": [],
   "source": [
    "#download and unzip data\n",
    "\n",
    "unprocessed_data_path = os.path.join(data_folder_original,url.split(\"/\")[-1])\n",
    "\n",
    "if not os.path.exists(unprocessed_data_path):\n",
    "    r = requests.get(url, allow_redirects=True)\n",
    "    open(unprocessed_data_path, 'wb').write(r.content)"
   ]
  },
  {
   "cell_type": "code",
   "execution_count": null,
   "metadata": {},
   "outputs": [],
   "source": [
    "#read data to pandas dataframe\n",
    "\n",
    "\n",
    "\n",
    "# 7. Attribute Information: (classes: edible=e, poisonous=p)\n",
    "#      1. cap-shape:                bell=b,conical=c,convex=x,flat=f,\n",
    "#                                   knobbed=k,sunken=s\n",
    "#      2. cap-surface:              fibrous=f,grooves=g,scaly=y,smooth=s\n",
    "#      3. cap-color:                brown=n,buff=b,cinnamon=c,gray=g,green=r,\n",
    "#                                   pink=p,purple=u,red=e,white=w,yellow=y\n",
    "#      4. bruises?:                 bruises=t,no=f\n",
    "#      5. odor:                     almond=a,anise=l,creosote=c,fishy=y,foul=f,\n",
    "#                                   musty=m,none=n,pungent=p,spicy=s\n",
    "#      6. gill-attachment:          attached=a,descending=d,free=f,notched=n\n",
    "#      7. gill-spacing:             close=c,crowded=w,distant=d\n",
    "#      8. gill-size:                broad=b,narrow=n\n",
    "#      9. gill-color:               black=k,brown=n,buff=b,chocolate=h,gray=g,\n",
    "#                                   green=r,orange=o,pink=p,purple=u,red=e,\n",
    "#                                   white=w,yellow=y\n",
    "#     10. stalk-shape:              enlarging=e,tapering=t\n",
    "#     11. stalk-root:               bulbous=b,club=c,cup=u,equal=e,\n",
    "#                                   rhizomorphs=z,rooted=r,missing=?\n",
    "#     12. stalk-surface-above-ring: fibrous=f,scaly=y,silky=k,smooth=s\n",
    "#     13. stalk-surface-below-ring: fibrous=f,scaly=y,silky=k,smooth=s\n",
    "#     14. stalk-color-above-ring:   brown=n,buff=b,cinnamon=c,gray=g,orange=o,\n",
    "#                                   pink=p,red=e,white=w,yellow=y\n",
    "#     15. stalk-color-below-ring:   brown=n,buff=b,cinnamon=c,gray=g,orange=o,\n",
    "#                                   pink=p,red=e,white=w,yellow=y\n",
    "#     16. veil-type:                partial=p,universal=u\n",
    "#     17. veil-color:               brown=n,orange=o,white=w,yellow=y\n",
    "#     18. ring-number:              none=n,one=o,two=t\n",
    "#     19. ring-type:                cobwebby=c,evanescent=e,flaring=f,large=l,\n",
    "#                                   none=n,pendant=p,sheathing=s,zone=z\n",
    "#     20. spore-print-color:        black=k,brown=n,buff=b,chocolate=h,green=r,\n",
    "#                                   orange=o,purple=u,white=w,yellow=y\n",
    "#     21. population:               abundant=a,clustered=c,numerous=n,\n",
    "#                                   scattered=s,several=v,solitary=y\n",
    "#     22. habitat:                  grasses=g,leaves=l,meadows=m,paths=p,\n",
    "#                                   urban=u,waste=w,woods=d\n",
    "\n",
    "header = [\n",
    "    \"class\",\n",
    "    \"cap-shape\",\n",
    "    \"cap-surface\",\n",
    "    \"cap-color\",\n",
    "    \"bruises\",\n",
    "    \"odor\",\n",
    "    \"gill-attachment\",\n",
    "    \"gill-spacing\",\n",
    "    \"gill-size\",\n",
    "    \"gill-color\",\n",
    "    \"stalk-shape\",\n",
    "    \"stalk-root\",\n",
    "    \"stalk-surface-above-ring\",\n",
    "    \"stalk-surface-below-ring\",\n",
    "    \"stalk-color-above-ring\",\n",
    "    \"stalk-color-below-ring\",\n",
    "    \"veil-type\",\n",
    "    \"veil-color\",\n",
    "    \"ring-number\",\n",
    "    \"ring-type\",\n",
    "    \"spore-print-color\",\n",
    "    \"population\",\n",
    "    \"habitat\"\n",
    "]\n",
    "\n",
    "multival=header[1:]\n",
    "\n",
    "df = pd.read_csv(unprocessed_data_path, names=header).dropna()\n",
    "df\n",
    "\n"
   ]
  },
  {
   "cell_type": "code",
   "execution_count": null,
   "metadata": {},
   "outputs": [],
   "source": [
    "#class distribution\n",
    "\n",
    "df[\"class\"].value_counts()\n"
   ]
  },
  {
   "cell_type": "code",
   "execution_count": null,
   "metadata": {},
   "outputs": [],
   "source": [
    "# Make poisenous positive class\n",
    "\n",
    "df.loc[df[\"class\"]==\"e\",\"class\"]=0\n",
    "df.loc[df[\"class\"]==\"p\",\"class\"]=1\n",
    "\n",
    "# df"
   ]
  },
  {
   "cell_type": "code",
   "execution_count": null,
   "metadata": {},
   "outputs": [],
   "source": [
    "#binarize multivalued features\n",
    "\n",
    "for column in multival:\n",
    "    values = list(set(df[column]))\n",
    "    if len(values)>2:\n",
    "        df = binarize(df, column)\n",
    "    elif len(values)==2:\n",
    "        df.loc[df[column]==values[0],column]=-1\n",
    "        df.loc[df[column]==values[1],column]=1\n",
    "    else: # drop useless features\n",
    "        print(column, values)\n",
    "        df=df.drop(column, axis=1)\n",
    "\n",
    "# df"
   ]
  },
  {
   "cell_type": "code",
   "execution_count": null,
   "metadata": {},
   "outputs": [],
   "source": [
    "#normalize\n",
    "for column in df.columns.values:\n",
    "    df[column]=pd.to_numeric(df[column])\n",
    "\n",
    "normalized_df=(df.astype(float)-df.min())/(df.max()-df.min())*2-1\n",
    "normalized_df[\"class\"] = df[\"class\"]\n",
    "df = normalized_df\n",
    "# df"
   ]
  },
  {
   "cell_type": "code",
   "execution_count": null,
   "metadata": {},
   "outputs": [],
   "source": [
    "#move class to back\n",
    "\n",
    "cols = list(df.columns.values) #Make a list of all of the columns in the df\n",
    "cols.pop(cols.index('class')) #Remove class from list\n",
    "df = df[cols+['class']]\n",
    "\n",
    "df"
   ]
  },
  {
   "cell_type": "code",
   "execution_count": null,
   "metadata": {},
   "outputs": [],
   "source": [
    "# make numpy array\n",
    "\n",
    "import numpy as np\n",
    "\n",
    "xy = df.values\n",
    "\n",
    "x = xy[:,:-1].astype(float)\n",
    "y = xy[:,-1].astype(int)\n",
    "\n",
    "x_pos = x[y==1]\n",
    "x_neg = x[y==0]\n"
   ]
  },
  {
   "cell_type": "code",
   "execution_count": null,
   "metadata": {},
   "outputs": [],
   "source": [
    "#Save data and true classes\n",
    "np.savetxt(data_path(data_folder, data_name), x)\n",
    "np.savetxt(classlabels_path(data_folder, data_name), y,fmt='%d')"
   ]
  },
  {
   "cell_type": "markdown",
   "metadata": {},
   "source": [
    "# Different dataset partitions (train/test and class prior)"
   ]
  },
  {
   "cell_type": "code",
   "execution_count": null,
   "metadata": {},
   "outputs": [],
   "source": [
    "sss = sklearn.model_selection.StratifiedShuffleSplit(n_splits=nb_splits, test_size=test_size, random_state=0)\n",
    "splits = list(sss.split(x,y))"
   ]
  },
  {
   "cell_type": "code",
   "execution_count": null,
   "metadata": {},
   "outputs": [],
   "source": [
    "#save partitions. 0 means not in data, 1 means in train partition, 2 means in test partition\n",
    "\n",
    "for i, (train,test) in enumerate(splits):\n",
    "    partition = np.zeros_like(y,dtype=int)\n",
    "    partition[train]=1\n",
    "    \n",
    "    partition[test]=2    \n",
    "    np.savetxt(partition_path(data_folder,data_name, i), partition, fmt='%d')\n",
    "   "
   ]
  }
 ],
 "metadata": {
  "kernelspec": {
   "display_name": "propensity",
   "language": "python",
   "name": "propensity"
  },
  "language_info": {
   "codemirror_mode": {
    "name": "ipython",
    "version": 3
   },
   "file_extension": ".py",
   "mimetype": "text/x-python",
   "name": "python",
   "nbconvert_exporter": "python",
   "pygments_lexer": "ipython3",
   "version": "3.6.7"
  }
 },
 "nbformat": 4,
 "nbformat_minor": 2
}
