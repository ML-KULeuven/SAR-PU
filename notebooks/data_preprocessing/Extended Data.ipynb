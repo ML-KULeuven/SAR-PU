{
 "cells": [
  {
   "cell_type": "code",
   "execution_count": null,
   "metadata": {},
   "outputs": [],
   "source": [
    "%reload_ext autoreload\n",
    "%autoreload 2\n",
    "\n",
    "from sarpu.data_extending import generate_extended_data"
   ]
  },
  {
   "cell_type": "code",
   "execution_count": null,
   "metadata": {},
   "outputs": [],
   "source": [
    "# Datasets which should be extended with artificially generated attributes\n",
    "data_names = [\n",
    "    \"breastcancer\",\n",
    "    \"covtype\",\n",
    "    \"mushroom\",\n",
    "    \"20ng\",\n",
    "    \"diabetes\",\n",
    "    \"splice\",\n",
    "    \"adult\",\n",
    "    \"imagesegmentation\",\n",
    "]\n",
    "\n",
    "# Folder where datasets are stored\n",
    "data_folder = \"../../Data/\"\n",
    "\n",
    "# Number of possible attribute values\n",
    "nb_discretizations = 5\n",
    "\n",
    "# Each dataset gets 5 extra attributes that are positively correlated with the class \n",
    "# and 5 attributes that are not correlated with the class.\n",
    "extra_attributes_neg_probs = [0.3]*5 + [0.5]*5\n",
    "\n",
    "# Number of partitions (aka splits) in the original dataset\n",
    "nb_partitions = 5"
   ]
  },
  {
   "cell_type": "markdown",
   "metadata": {},
   "source": [
    "# Clustering"
   ]
  },
  {
   "cell_type": "code",
   "execution_count": null,
   "metadata": {},
   "outputs": [],
   "source": [
    "n_extra_attributes = 5\n",
    "for data_name in data_names:\n",
    "    print(data_name)\n",
    "    generate_extended_data(data_folder, data_name, n_extra_attributes, nb_partitions)"
   ]
  }
 ],
 "metadata": {
  "kernelspec": {
   "display_name": "env_sarpupub",
   "language": "python",
   "name": "env_sarpupub"
  },
  "language_info": {
   "codemirror_mode": {
    "name": "ipython",
    "version": 3
   },
   "file_extension": ".py",
   "mimetype": "text/x-python",
   "name": "python",
   "nbconvert_exporter": "python",
   "pygments_lexer": "ipython3",
   "version": "3.6.7"
  }
 },
 "nbformat": 4,
 "nbformat_minor": 2
}
