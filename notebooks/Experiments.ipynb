{
 "cells": [
  {
   "cell_type": "code",
   "execution_count": null,
   "metadata": {},
   "outputs": [],
   "source": [
    "%reload_ext autoreload\n",
    "%autoreload 2\n",
    "\n",
    "from sarpu.labeling_mechanisms import label_data\n",
    "from sarpu.paths_and_names import *\n",
    "from sarpu.experiments import *\n",
    "\n",
    "import pandas as pd\n",
    "import matplotlib.pyplot as plt\n",
    "\n",
    "from IPython.display import display\n"
   ]
  },
  {
   "cell_type": "code",
   "execution_count": null,
   "metadata": {
    "scrolled": true
   },
   "outputs": [],
   "source": [
    "data_folder= \"../Data/\"\n",
    "results_folder=\"../Results/\"\n",
    "\n",
    "data_name = \"mushroom_extclustering\"\n",
    "propensity_attributes = [111,112,113,114]\n",
    "propensity_attributes_signs = [1,1,1,1]\n",
    "settings = \"lr._.lr._.0-111\"\n",
    "labeling_model_type = \"simple_0.2_0.8\"\n",
    "\n",
    "labeling=0\n",
    "partition=1\n",
    "\n",
    "nb_assignments=5\n",
    "nb_labelings=5\n",
    "\n",
    "\n",
    "relabel_data = False\n",
    "rerun_experiments = False\n",
    "\n",
    "\n",
    "pu_methods = [\"supervised\",\"negative\",\"sar-e\",\"scar-c\",\"sar-em\",\"scar-km2\",\"scar-tice\"]\n"
   ]
  },
  {
   "cell_type": "markdown",
   "metadata": {},
   "source": [
    "# Generate PU data with labeling mechanism"
   ]
  },
  {
   "cell_type": "code",
   "execution_count": null,
   "metadata": {},
   "outputs": [],
   "source": [
    "labeling_model = label_data(\n",
    "    data_folder, \n",
    "    data_name, \n",
    "    labeling_model_type, \n",
    "    propensity_attributes, \n",
    "    propensity_attributes_signs, \n",
    "    nb_assignments,\n",
    "    relabel_data=relabel_data\n",
    ")"
   ]
  },
  {
   "cell_type": "markdown",
   "metadata": {},
   "source": [
    "# Train and Evaluate models"
   ]
  },
  {
   "cell_type": "code",
   "execution_count": null,
   "metadata": {},
   "outputs": [],
   "source": [
    "for pu_method in pu_methods:\n",
    "    train_and_evaluate(\n",
    "        data_folder,\n",
    "        results_folder, \n",
    "        data_name, \n",
    "        labeling_model, \n",
    "        labeling, \n",
    "        partition, \n",
    "        settings, \n",
    "        pu_method, \n",
    "        rerun_experiments=rerun_experiments\n",
    "    )\n",
    "    \n",
    "experiment_path = experiment_result_folder_path(\n",
    "    results_folder, \n",
    "    data_name, \n",
    "    labeling_model, \n",
    "    labeling, \n",
    "    partition, \n",
    "    settings\n",
    ")\n",
    "\n",
    "!ls $experiment_path/*\n"
   ]
  },
  {
   "cell_type": "markdown",
   "metadata": {},
   "source": [
    "# Evaluate setting"
   ]
  },
  {
   "cell_type": "markdown",
   "metadata": {},
   "source": [
    "## Labeling Mechanism Properties"
   ]
  },
  {
   "cell_type": "markdown",
   "metadata": {},
   "source": [
    "### Load dataset"
   ]
  },
  {
   "cell_type": "code",
   "execution_count": null,
   "metadata": {},
   "outputs": [],
   "source": [
    "x_path = data_path(data_folder,data_name)\n",
    "y_path = classlabels_path(data_folder,data_name)\n",
    "s_path = propensity_labeling_path(data_folder, data_name, labeling_model, labeling)\n",
    "e_path = propensity_scores_path(data_folder, data_name, labeling_model)\n",
    "x,y,s,e = read_data((x_path,y_path,s_path,e_path))\n",
    "model_path = experiment_classifier_path(results_folder, data_name, labeling_model, labeling, partition, settings, \"supervised\")\n",
    "\n",
    "y_pred = pickle.load(open(model_path, 'rb')).predict_proba(x)"
   ]
  },
  {
   "cell_type": "code",
   "execution_count": null,
   "metadata": {
    "scrolled": false
   },
   "outputs": [],
   "source": [
    "def line(x,y,nb_vals=10):\n",
    "    x_vals = sorted(set(x))\n",
    "    delta=0\n",
    "    if len(x_vals)>nb_vals:\n",
    "        x_min = min(x)\n",
    "        x_max = max(x)\n",
    "        delta = (x_max-x_min)/nb_vals/2\n",
    "        x_vals = np.arange(nb_vals)/nb_vals*(x_max-x_min)+x_min+delta\n",
    "    y_avg = []\n",
    "    for x_val in x_vals:\n",
    "        y_avg.append(y[abs(x-x_val)<=delta].mean())\n",
    "    return x_vals,y_avg\n",
    "\n",
    "\n",
    "def plot_scatter_and_line(x, y, c=None):\n",
    "    plt.scatter(x, y, c=c)\n",
    "    x1,y1 = line(x ,y)\n",
    "    plt.plot(x1, y1)    \n",
    "    y2,x2 = line(y, x)\n",
    "    plt.plot(x2, y2)\n",
    "    \n",
    "    \n",
    "\n",
    "plt.figure()\n",
    "plt.title(\"Class probability/Propensity Correlation\")\n",
    "plot_scatter_and_line(y_pred, e, y_pred)\n",
    "plt.xlabel(r\"$\\Pr(y=1)$\")\n",
    "plt.ylabel(r\"$e$\")\n",
    "\n",
    "for at in propensity_attributes:\n",
    "    plt.figure()\n",
    "    plot_scatter_and_line(x[:,at],e,y_pred)\n",
    "    plt.title(\"Attribute \"+str(at)+\"/Propensity Correlation\")\n",
    "    plt.xlabel(\"attribute \"+str(at))\n",
    "    plt.ylabel(r\"$e$\")\n",
    "    \n",
    "    plt.figure()\n",
    "    plot_scatter_and_line(x[:,at],y_pred,y)\n",
    "    plt.title(\"Attribute \"+str(at)+\"/Class Probability\")\n",
    "    plt.xlabel(\"attribute \"+str(at))\n",
    "    plt.ylabel(r\"$\\Pr(y=1)$\")\n",
    "    \n",
    "    plt.figure()\n",
    "    plot_scatter_and_line(x[:,at],y,y)\n",
    "    plt.title(\"Attribute \"+str(at)+\"/Class Probability\")\n",
    "    plt.xlabel(\"attribute \"+str(at))\n",
    "    plt.ylabel(r\"$y$\")\n"
   ]
  },
  {
   "cell_type": "markdown",
   "metadata": {},
   "source": [
    "## Gather results"
   ]
  },
  {
   "cell_type": "code",
   "execution_count": null,
   "metadata": {},
   "outputs": [],
   "source": [
    "frames = []\n",
    "for pu_method in pu_methods:\n",
    "    results_path = experiment_results_path(results_folder, data_name, labeling_model, labeling, partition, settings, pu_method)\n",
    "    df = pd.read_csv(results_path, index_col=0, header=None, sep=\"\\t\").T\n",
    "    df.index=[pu_method]\n",
    "    \n",
    "    frames.append(df)\n",
    "df = pd.concat(frames)\n",
    "df"
   ]
  },
  {
   "cell_type": "markdown",
   "metadata": {},
   "source": [
    "## Comparison Classifier"
   ]
  },
  {
   "cell_type": "code",
   "execution_count": null,
   "metadata": {
    "scrolled": false
   },
   "outputs": [],
   "source": [
    "measures_to_plot = ['test_f_roc_auc','test_f_average_precision', 'test_f_mse', 'test_f_mae']\n",
    "\n",
    "display(df[measures_to_plot])\n",
    "\n",
    "for measure_to_plot in measures_to_plot:\n",
    "    plt.figure()\n",
    "    ax = df[measure_to_plot].plot(kind=\"bar\");\n",
    "    plt.title(measure_to_plot)\n",
    "    [ax.text(i,v, '{:.3f}'.format(v)) for i, v in enumerate(df[measure_to_plot])];\n",
    "    \n",
    "    "
   ]
  },
  {
   "cell_type": "markdown",
   "metadata": {},
   "source": [
    "## Comparison Propensity Scores"
   ]
  },
  {
   "cell_type": "code",
   "execution_count": null,
   "metadata": {},
   "outputs": [],
   "source": [
    "measures_to_plot = ['test_e_mse','test_e_mae', 'train_e_prior_abs_err']\n",
    "\n",
    "display(df[measures_to_plot])\n",
    "\n",
    "for measure_to_plot in measures_to_plot:\n",
    "    plt.figure()\n",
    "    ax = df[measure_to_plot].plot(kind=\"bar\");\n",
    "    plt.title(measure_to_plot)\n",
    "    [ax.text(i,v, '{:.3f}'.format(v)) for i, v in enumerate(df[measure_to_plot])];\n",
    "    "
   ]
  }
 ],
 "metadata": {
  "kernelspec": {
   "display_name": "env_sarpu2",
   "language": "python",
   "name": "env_sarpu2"
  },
  "language_info": {
   "codemirror_mode": {
    "name": "ipython",
    "version": 3
   },
   "file_extension": ".py",
   "mimetype": "text/x-python",
   "name": "python",
   "nbconvert_exporter": "python",
   "pygments_lexer": "ipython3",
   "version": "3.6.7"
  }
 },
 "nbformat": 4,
 "nbformat_minor": 2
}
